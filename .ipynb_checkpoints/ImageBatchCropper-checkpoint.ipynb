{
 "cells": [
  {
   "cell_type": "markdown",
   "metadata": {
    "slideshow": {
     "slide_type": "slide"
    }
   },
   "source": [
    "# Code for cropping ROI from RhizoVisionAnalyzer text file"
   ]
  },
  {
   "cell_type": "code",
   "execution_count": null,
   "metadata": {
    "slideshow": {
     "slide_type": "subslide"
    }
   },
   "outputs": [],
   "source": [
    "## if missing cv2 type \"pip install opencv-python\"\n",
    "import cv2\n",
    "import numpy as np\n",
    "import glob\n",
    "import csv\n",
    "import os\n",
    "from shutil import copyfile"
   ]
  },
  {
   "cell_type": "markdown",
   "metadata": {
    "slideshow": {
     "slide_type": "subslide"
    }
   },
   "source": [
    "#### [User Setup] define & set the working directory containing images and their annotations. Annotation files should have exact same name as image with a .txt extension. Change default ext if required."
   ]
  },
  {
   "cell_type": "code",
   "execution_count": null,
   "metadata": {},
   "outputs": [],
   "source": [
    "## Choose working directory with data, use forward slash (/) or double back slash (\\\\) in path\n",
    "## macOS   '/Users/marcusgriffiths/Desktop/Folder'\n",
    "## windows 'C:/Users/marcu/OneDrive/Desktop/Folder'\n",
    "basedir = '/Users/marcusgriffiths/Desktop/Folder'\n",
    "default_ext = '*.jpg'"
   ]
  },
  {
   "cell_type": "markdown",
   "metadata": {},
   "source": [
    "#### [End User Setup] make \"output\" folder in basedir"
   ]
  },
  {
   "cell_type": "code",
   "execution_count": null,
   "metadata": {
    "slideshow": {
     "slide_type": "slide"
    }
   },
   "outputs": [],
   "source": [
    "os.chdir(basedir)\n",
    "\n",
    "outputdir = (\"Cropped\")\n",
    "CHECK_FOLDER = os.path.isdir(outputdir)\n",
    "# If folder doesn't exist, then create it.\n",
    "if not CHECK_FOLDER:\n",
    "    os.makedirs(outputdir)\n",
    "    print(\"created folder : \", outputdir)\n",
    "else:\n",
    "    print(outputdir, \"folder already exists.\")\n",
    "\n",
    "noannotationdir = (\"No_annotation\")\n",
    "CHECK_FOLDER = os.path.isdir(noannotationdir)\n",
    "# If folder doesn't exist, then create it.\n",
    "if not CHECK_FOLDER:\n",
    "    os.makedirs(noannotationdir)\n",
    "    print(\"created folder : \", noannotationdir)\n",
    "else:\n",
    "    print(noannotationdir, \"folder already exists.\")"
   ]
  },
  {
   "cell_type": "markdown",
   "metadata": {},
   "source": [
    "##### Define function to get ROI from txt file"
   ]
  },
  {
   "cell_type": "code",
   "execution_count": null,
   "metadata": {},
   "outputs": [],
   "source": [
    "def getROIList(filename):\n",
    "    result = []\n",
    "    \n",
    "    if os.path.exists(filename) == False:\n",
    "        print(filename + ' has no annotation file')\n",
    "        copyfile(filename[0:-3] + default_ext[2:], noannotationdir + '/' + filename[0:-3] + default_ext[2:])\n",
    "        return result\n",
    "    \n",
    "    with open(filename, newline='') as csvfile:\n",
    "        filereader = csv.reader(csvfile, delimiter=',')\n",
    "        linecnt = 0\n",
    "        \n",
    "        for row in filereader:\n",
    "            if linecnt == 0:\n",
    "                linecnt += 1\n",
    "                continue\n",
    "            else:\n",
    "                if not (int(row[4]) == 0 or int(row[5]) == 0):\n",
    "                    result.append((int(row[2]),int(row[3]),int(row[4]),int(row[5])))\n",
    "                linecnt += 1\n",
    "    \n",
    "    if len(result) == 0:\n",
    "        print(filename + ' annotation is empty')\n",
    "        copyfile(filename[0:-3] + default_ext[2:], noannotationdir + '/' + filename[0:-3] + default_ext[2:])\n",
    "    \n",
    "    return result"
   ]
  },
  {
   "cell_type": "markdown",
   "metadata": {},
   "source": [
    "###### Define image save function. Use cv2.IMREAD_ANYCOLOR for color images, grayscale is used for root flatbed scans "
   ]
  },
  {
   "cell_type": "code",
   "execution_count": null,
   "metadata": {},
   "outputs": [],
   "source": [
    "def saveimages(roilist, imagename):\n",
    "    img = cv2.imread(imagename, cv2.IMREAD_GRAYSCALE)\n",
    "    idx = 1\n",
    "    \n",
    "    for roi in roilist:\n",
    "        roiimg = img[roi[1] : roi[1] + roi[3], roi[0] : roi[0] + roi[2]]\n",
    "        cv2.imwrite(outputdir + '/' + imagename[:-4] + '_r' + str(idx) + default_ext[1:], roiimg)\n",
    "        idx += 1"
   ]
  },
  {
   "cell_type": "markdown",
   "metadata": {},
   "source": [
    "###### Call functions to crop image based on coordinates & save output"
   ]
  },
  {
   "cell_type": "code",
   "execution_count": null,
   "metadata": {},
   "outputs": [],
   "source": [
    "print('Working in ' + basedir)\n",
    "#files = glob.glob('*.jpg')\n",
    "files = glob.glob(default_ext)\n",
    "\n",
    "for f in files:\n",
    "    annfile = f[0:len(f)-(len(default_ext) - 2)] + 'txt'\n",
    "    roilist = getROIList(annfile)\n",
    "    saveimages(roilist, f)\n",
    "print('done!')"
   ]
  },
  {
   "cell_type": "code",
   "execution_count": null,
   "metadata": {},
   "outputs": [],
   "source": []
  }
 ],
 "metadata": {
  "kernelspec": {
   "display_name": "Python 3",
   "language": "python",
   "name": "python3"
  },
  "language_info": {
   "codemirror_mode": {
    "name": "ipython",
    "version": 3
   },
   "file_extension": ".py",
   "mimetype": "text/x-python",
   "name": "python",
   "nbconvert_exporter": "python",
   "pygments_lexer": "ipython3",
   "version": "3.8.5"
  }
 },
 "nbformat": 4,
 "nbformat_minor": 2
}
