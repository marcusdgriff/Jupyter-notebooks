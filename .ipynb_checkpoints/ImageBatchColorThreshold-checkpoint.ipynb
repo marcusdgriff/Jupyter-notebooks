{
 "cells": [
  {
   "cell_type": "markdown",
   "metadata": {},
   "source": [
    "# Code for batch thresholding images & measuring pixel count of threshold"
   ]
  },
  {
   "cell_type": "code",
   "execution_count": null,
   "metadata": {},
   "outputs": [],
   "source": [
    "## Griffiths M, Seethepali A (2020)"
   ]
  },
  {
   "cell_type": "code",
   "execution_count": null,
   "metadata": {},
   "outputs": [],
   "source": [
    "import os\n",
    "from PIL import Image\n",
    "import glob\n",
    "import cv2\n",
    "from plantcv import plantcv as pcv\n",
    "%matplotlib notebook\n",
    "import matplotlib\n",
    "import cv2"
   ]
  },
  {
   "cell_type": "code",
   "execution_count": null,
   "metadata": {},
   "outputs": [],
   "source": [
    "## Choose working directory with data, use forward slash (/) or double back slash (\\\\) in path\n",
    "## macOS '/Users/marcusgriffiths/Desktop/Folder'\n",
    "## windows 'C:/Users/marcu/OneDrive/Desktop/Folder'\n",
    "basedir = '/Users/marcusgriffiths/Desktop/ImageThresholdInput/'\n",
    "csvfile = '/Users/marcusgriffiths/Desktop/ImageThresholdInput/output.csv'"
   ]
  },
  {
   "cell_type": "code",
   "execution_count": null,
   "metadata": {},
   "outputs": [],
   "source": [
    "os.chdir(basedir)\n",
    "\n",
    "outputdir = (\"output\")\n",
    "CHECK_FOLDER = os.path.isdir(outputdir)\n",
    "# If folder doesn't exist, then create it.\n",
    "if not CHECK_FOLDER:\n",
    "    os.makedirs(outputdir)\n",
    "    print(\"created folder : \", outputdir)\n",
    "else:\n",
    "    print(outputdir, \"folder already exists.\")"
   ]
  },
  {
   "cell_type": "code",
   "execution_count": null,
   "metadata": {},
   "outputs": [],
   "source": [
    "files = glob.glob('*.jpg')\n",
    "\n",
    "with open(csvfile, 'w') as csv:\n",
    "    csv.write('FileName, PercentShootPixels\\n')\n",
    "    for file in files:\n",
    "        print('Processing file', file, '...')\n",
    "        im = cv2.imread(file, cv2.IMREAD_ANYCOLOR)\n",
    "        a = cv2.cvtColor(im,cv2.COLOR_BGR2Lab)[:,:,1]\n",
    "        a_thresh = pcv.threshold.binary(gray_img=a, threshold=122, max_value=255, object_type='dark')\n",
    "        cv2.imwrite(file[:-4] + '_out.jpg', a_thresh)\n",
    "        nShootPercent = cv2.sumElems(a_thresh / 255)[0] * 100.0 / (im.shape[0] * im.shape[1])\n",
    "        csv.write(os.path.basename(file) + ', ' + str(nShootPercent) + '\\n')"
   ]
  },
  {
   "cell_type": "code",
   "execution_count": null,
   "metadata": {},
   "outputs": [],
   "source": []
  }
 ],
 "metadata": {
  "kernelspec": {
   "display_name": "Python 3 (ipykernel)",
   "language": "python",
   "name": "python3"
  },
  "language_info": {
   "codemirror_mode": {
    "name": "ipython",
    "version": 3
   },
   "file_extension": ".py",
   "mimetype": "text/x-python",
   "name": "python",
   "nbconvert_exporter": "python",
   "pygments_lexer": "ipython3",
   "version": "3.9.7"
  }
 },
 "nbformat": 4,
 "nbformat_minor": 4
}
