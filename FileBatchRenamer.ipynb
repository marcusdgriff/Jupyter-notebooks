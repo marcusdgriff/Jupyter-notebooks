{
 "cells": [
  {
   "cell_type": "markdown",
   "metadata": {},
   "source": [
    "# Code for renaming files using a .csv file list"
   ]
  },
  {
   "cell_type": "code",
   "execution_count": null,
   "metadata": {
    "scrolled": true
   },
   "outputs": [],
   "source": [
    "import os\n",
    "#import cv2\n",
    "#import glob\n",
    "import csv\n",
    "import shutil\n",
    "#import numpy as np"
   ]
  },
  {
   "cell_type": "markdown",
   "metadata": {},
   "source": [
    "#### [User Setup] define & set working directory containing images plus the \"file_list.csv\" file (contains two columns, \"old_name\" and \"new_name\" with the respective file type extensions)"
   ]
  },
  {
   "cell_type": "code",
   "execution_count": null,
   "metadata": {
    "scrolled": true
   },
   "outputs": [],
   "source": [
    "## Choose working directory with data, use forward slash (/) or double back slash (\\\\) in path\n",
    "## macOS   '/Users/marcusgriffiths/Desktop/Folder'\n",
    "## windows 'C:/Users/marcu/OneDrive/Desktop/Folder'\n",
    "basedir = '/Users/marcusgriffiths/Desktop/FileRenamerInput'\n",
    "csvfile = '/Users/marcusgriffiths/Desktop/FileRenamerInput/file_list.csv'\n",
    "os.chdir(basedir)"
   ]
  },
  {
   "cell_type": "markdown",
   "metadata": {},
   "source": [
    "#### [End User Setup] make \"output\" folder in basedir"
   ]
  },
  {
   "cell_type": "code",
   "execution_count": null,
   "metadata": {
    "scrolled": true
   },
   "outputs": [],
   "source": [
    "outputdir = (\"output\")\n",
    "CHECK_FOLDER = os.path.isdir(outputdir)\n",
    "# If folder doesn't exist, then create it.\n",
    "if not CHECK_FOLDER:\n",
    "    os.makedirs(outputdir)\n",
    "    print(\"created folder : \", outputdir)\n",
    "else:\n",
    "    print(outputdir, \"folder already exists.\")"
   ]
  },
  {
   "cell_type": "markdown",
   "metadata": {},
   "source": [
    "##### Define function to change file names from \"old_name\" to \"new_name\""
   ]
  },
  {
   "cell_type": "code",
   "execution_count": null,
   "metadata": {
    "scrolled": true
   },
   "outputs": [],
   "source": [
    "def getRenameList(filename, IgnoreHeader=False):\n",
    "    result = []\n",
    "    \n",
    "    with open(filename, newline='') as csvfile:\n",
    "        filereader = csv.reader(csvfile, delimiter=',')\n",
    "        linecnt = 0\n",
    "        \n",
    "        for row in filereader:\n",
    "            if linecnt == 0 and IgnoreHeader == True:\n",
    "                linecnt += 1\n",
    "                continue\n",
    "            else:\n",
    "                result.append(((row[0]),(row[1])))\n",
    "                linecnt += 1\n",
    "                print(row[0] + ' was changed to ' + row[1])\n",
    "    \n",
    "    return result"
   ]
  },
  {
   "cell_type": "markdown",
   "metadata": {},
   "source": [
    "###### Call function to rename files based on csvfile & save output"
   ]
  },
  {
   "cell_type": "code",
   "execution_count": null,
   "metadata": {
    "scrolled": false
   },
   "outputs": [],
   "source": [
    "# Choose one of the commented commands below depending on if the csv file has a header\n",
    "#renamelist = getRenameList(csvfile)\n",
    "renamelist = getRenameList(csvfile, True)\n",
    "\n",
    "print('Working in ' + basedir)\n",
    "for r in renamelist:\n",
    "    shutil.copyfile(basedir + '/' + r[0], outputdir + '/' + r[1])\n",
    "    #print('done!')"
   ]
  },
  {
   "cell_type": "code",
   "execution_count": null,
   "metadata": {},
   "outputs": [],
   "source": []
  }
 ],
 "metadata": {
  "kernelspec": {
   "display_name": "Python 3",
   "language": "python",
   "name": "python3"
  },
  "language_info": {
   "codemirror_mode": {
    "name": "ipython",
    "version": 3
   },
   "file_extension": ".py",
   "mimetype": "text/x-python",
   "name": "python",
   "nbconvert_exporter": "python",
   "pygments_lexer": "ipython3",
   "version": "3.8.5"
  }
 },
 "nbformat": 4,
 "nbformat_minor": 2
}
